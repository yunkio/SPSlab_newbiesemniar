{
 "cells": [
  {
   "cell_type": "code",
   "execution_count": 1,
   "metadata": {},
   "outputs": [],
   "source": [
    "import torch\n",
    "import torch.nn as nn\n",
    "import torch.nn.functional as F\n",
    "import torch.optim as optim\n",
    "from torchvision import transforms, datasets\n",
    "from torchsummary import summary\n",
    "\n",
    "import pandas as pd\n",
    "import numpy as np\n",
    "import warnings\n",
    "\n",
    "warnings.filterwarnings(action='ignore')"
   ]
  },
  {
   "cell_type": "markdown",
   "metadata": {},
   "source": [
    "파라미터"
   ]
  },
  {
   "cell_type": "code",
   "execution_count": 2,
   "metadata": {},
   "outputs": [],
   "source": [
    "epochs = 50\n",
    "batch_size = 128\n",
    "train_history = []\n",
    "test_history = []\n",
    "test_acc_history = []\n",
    "device = torch.device(\"cuda\" if torch.cuda.is_available() else \"cpu\")"
   ]
  },
  {
   "cell_type": "markdown",
   "metadata": {},
   "source": [
    "데이터 로딩"
   ]
  },
  {
   "cell_type": "code",
   "execution_count": 3,
   "metadata": {},
   "outputs": [],
   "source": [
    "train_loader = torch.utils.data.DataLoader(\n",
    "    datasets.FashionMNIST('./.data',\n",
    "                         train = True,\n",
    "                         download = True,\n",
    "                         transform=transforms.Compose([\n",
    "                             transforms.ToTensor(),\n",
    "                             transforms.Normalize((0.1307,), (0.3081, ))\n",
    "                         ])),\n",
    "    batch_size = batch_size, shuffle=True)\n",
    "test_loader = torch.utils.data.DataLoader(\n",
    "    datasets.FashionMNIST('./.data',\n",
    "                         train = False,\n",
    "                         transform=transforms.Compose([\n",
    "                             transforms.ToTensor(),\n",
    "                             transforms.Normalize((0.1307,), (0.3081, ))\n",
    "                         ])),\n",
    "    batch_size = batch_size, shuffle=True)"
   ]
  },
  {
   "cell_type": "code",
   "execution_count": 4,
   "metadata": {},
   "outputs": [
    {
     "data": {
      "text/plain": [
       "torch.Size([1, 28, 28])"
      ]
     },
     "execution_count": 4,
     "metadata": {},
     "output_type": "execute_result"
    }
   ],
   "source": [
    "train_loader.dataset[0][0].size() # 1차원의 28 * 28 이미지"
   ]
  },
  {
   "cell_type": "markdown",
   "metadata": {},
   "source": [
    "모델"
   ]
  },
  {
   "cell_type": "code",
   "execution_count": 5,
   "metadata": {},
   "outputs": [],
   "source": [
    "class Net(nn.Module):\n",
    "    def __init__(self):\n",
    "        super(Net, self).__init__()\n",
    "        self.conv1 = nn.Conv2d(1, 10, kernel_size=5)\n",
    "        self.conv2 = nn.Conv2d(10, 20, kernel_size=5)\n",
    "        self.fc1 = nn.Linear(20 * 4 * 4, 50)\n",
    "        self.fc2 = nn.Linear(50, 10) # 클래스 갯수 10\n",
    "        \n",
    "    def forward(self, x):\n",
    "\n",
    "        x = self.conv1(x)\n",
    "        \n",
    "        x = F.max_pool2d(x,2,2)\n",
    "        x = F.relu(x)\n",
    "        \n",
    "        x = self.conv2(x)\n",
    "        x = F.dropout2d(x, p = 0.5)\n",
    "        \n",
    "        x = F.max_pool2d(x,2,2)\n",
    "        x = F.relu(x)\n",
    "        \n",
    "        x = x.view(-1, 20 * 4 * 4)\n",
    "        \n",
    "        x = self.fc1(x)\n",
    "        x = F.relu(x)\n",
    "        x = F.dropout(x, p = 0.5)\n",
    "        \n",
    "        x = self.fc2(x)\n",
    "        \n",
    "        return x"
   ]
  },
  {
   "cell_type": "code",
   "execution_count": 6,
   "metadata": {},
   "outputs": [],
   "source": [
    "model = Net().to(device)\n",
    "optimizer = optim.SGD(model.parameters(), lr=0.01, momentum = 0.5)"
   ]
  },
  {
   "cell_type": "code",
   "execution_count": 7,
   "metadata": {},
   "outputs": [
    {
     "name": "stdout",
     "output_type": "stream",
     "text": [
      "----------------------------------------------------------------\n",
      "        Layer (type)               Output Shape         Param #\n",
      "================================================================\n",
      "            Conv2d-1           [-1, 10, 24, 24]             260\n",
      "         MaxPool2d-2           [-1, 10, 12, 12]               0\n",
      "            Conv2d-3             [-1, 20, 8, 8]           5,020\n",
      "         Dropout2d-4             [-1, 20, 8, 8]               0\n",
      "         MaxPool2d-5             [-1, 20, 4, 4]               0\n",
      "            Linear-6                   [-1, 50]          16,050\n",
      "         Dropout2d-7                   [-1, 50]               0\n",
      "            Linear-8                   [-1, 10]             510\n",
      "================================================================\n",
      "Total params: 21,840\n",
      "Trainable params: 21,840\n",
      "Non-trainable params: 0\n",
      "----------------------------------------------------------------\n",
      "Input size (MB): 0.00\n",
      "Forward/backward pass size (MB): 0.08\n",
      "Params size (MB): 0.08\n",
      "Estimated Total Size (MB): 0.16\n",
      "----------------------------------------------------------------\n"
     ]
    }
   ],
   "source": [
    "summary(Net().to(device), input_size = (1, 28, 28), device=\"CPU\")"
   ]
  },
  {
   "cell_type": "markdown",
   "metadata": {},
   "source": [
    "훈련"
   ]
  },
  {
   "cell_type": "code",
   "execution_count": 8,
   "metadata": {},
   "outputs": [],
   "source": [
    "def train(model, train_loader, optimizer, epoch):\n",
    "    model.train()\n",
    "    for batch_idx, (data, target) in enumerate(train_loader):\n",
    "        data, target = data.to(device), target.to(device)\n",
    "        optimizer.zero_grad()\n",
    "        output = model(data)\n",
    "        loss = F.cross_entropy(output, target)\n",
    "        loss.backward()\n",
    "        optimizer.step()\n",
    "    \n",
    "    train_history.append(loss.item()) # 기록 저장\n",
    "    print('Train [{}] \\t Loss: {: .6f}'.format(epoch, loss.item()))"
   ]
  },
  {
   "cell_type": "markdown",
   "metadata": {},
   "source": [
    "평가"
   ]
  },
  {
   "cell_type": "code",
   "execution_count": 9,
   "metadata": {},
   "outputs": [],
   "source": [
    "def evaluate(model, test_loader):\n",
    "    model.eval()\n",
    "    test_loss = 0\n",
    "    correct = 0\n",
    "    with torch.no_grad():\n",
    "        for data, target in test_loader:\n",
    "            data, target = data.to(device), target.to(device)\n",
    "            output = model(data)\n",
    "            \n",
    "            test_loss += F.cross_entropy(output, target, reduction='sum').item()\n",
    "            \n",
    "            # 가장 높은 값을 가진 인덱스를 예측값으로\n",
    "            pred = output.max(1, keepdim=True)[1]\n",
    "            correct += pred.eq(target.view_as(pred)).sum().item()\n",
    "            \n",
    "        test_loss /= len(test_loader.dataset)\n",
    "        test_accuracy = 100. * correct / len(test_loader.dataset)\n",
    "        \n",
    "        test_history.append(test_loss) # 기록 저장\n",
    "        test_acc_history.append(test_accuracy)\n",
    "        return test_loss, test_accuracy"
   ]
  },
  {
   "cell_type": "markdown",
   "metadata": {},
   "source": [
    "모델 돌리기"
   ]
  },
  {
   "cell_type": "code",
   "execution_count": 10,
   "metadata": {},
   "outputs": [
    {
     "name": "stdout",
     "output_type": "stream",
     "text": [
      "Train [1] \t Loss:  0.651814\n",
      "Train [2] \t Loss:  0.904685\n",
      "Train [3] \t Loss:  0.672427\n",
      "Train [4] \t Loss:  0.635635\n",
      "Train [5] \t Loss:  0.448784\n",
      "Test [5] \t Loss: 0.4962, Accuracy: 81.75%\n",
      "Train [6] \t Loss:  0.571998\n",
      "Train [7] \t Loss:  0.585119\n",
      "Train [8] \t Loss:  0.472354\n",
      "Train [9] \t Loss:  0.680685\n",
      "Train [10] \t Loss:  0.618920\n",
      "Test [10] \t Loss: 0.4170, Accuracy: 84.89%\n",
      "Train [11] \t Loss:  0.457761\n",
      "Train [12] \t Loss:  0.704669\n",
      "Train [13] \t Loss:  0.405635\n",
      "Train [14] \t Loss:  0.354832\n",
      "Train [15] \t Loss:  0.417170\n",
      "Test [15] \t Loss: 0.3785, Accuracy: 85.96%\n",
      "Train [16] \t Loss:  0.499188\n",
      "Train [17] \t Loss:  0.392053\n",
      "Train [18] \t Loss:  0.321424\n",
      "Train [19] \t Loss:  0.500928\n",
      "Train [20] \t Loss:  0.343255\n",
      "Test [20] \t Loss: 0.3519, Accuracy: 87.17%\n",
      "Train [21] \t Loss:  0.435528\n",
      "Train [22] \t Loss:  0.795976\n",
      "Train [23] \t Loss:  0.442781\n",
      "Train [24] \t Loss:  0.458791\n",
      "Train [25] \t Loss:  0.529157\n",
      "Test [25] \t Loss: 0.3439, Accuracy: 87.53%\n",
      "Train [26] \t Loss:  0.311349\n",
      "Train [27] \t Loss:  0.444105\n",
      "Train [28] \t Loss:  0.295390\n",
      "Train [29] \t Loss:  0.439469\n",
      "Train [30] \t Loss:  0.453862\n",
      "Test [30] \t Loss: 0.3377, Accuracy: 87.83%\n",
      "Train [31] \t Loss:  0.480737\n",
      "Train [32] \t Loss:  0.451160\n",
      "Train [33] \t Loss:  0.346424\n",
      "Train [34] \t Loss:  0.698808\n",
      "Train [35] \t Loss:  0.365382\n",
      "Test [35] \t Loss: 0.3214, Accuracy: 88.30%\n",
      "Train [36] \t Loss:  0.352707\n",
      "Train [37] \t Loss:  0.772888\n",
      "Train [38] \t Loss:  0.892961\n",
      "Train [39] \t Loss:  0.318735\n",
      "Train [40] \t Loss:  0.282059\n",
      "Test [40] \t Loss: 0.3135, Accuracy: 88.49%\n"
     ]
    }
   ],
   "source": [
    "for epoch in range(1, epochs + 1):\n",
    "    train(model, train_loader, optimizer, epoch)\n",
    "    test_loss, test_accuracy = evaluate(model, test_loader)\n",
    "    \n",
    "    if epoch%5 == 0:\n",
    "        print('Test [{}] \\t Loss: {:.4f}, Accuracy: {:.2f}%'.format(epoch, test_loss, test_accuracy))"
   ]
  },
  {
   "cell_type": "code",
   "execution_count": null,
   "metadata": {},
   "outputs": [],
   "source": []
  }
 ],
 "metadata": {
  "kernelspec": {
   "display_name": "Python 3",
   "language": "python",
   "name": "python3"
  },
  "language_info": {
   "codemirror_mode": {
    "name": "ipython",
    "version": 3
   },
   "file_extension": ".py",
   "mimetype": "text/x-python",
   "name": "python",
   "nbconvert_exporter": "python",
   "pygments_lexer": "ipython3",
   "version": "3.8.10"
  }
 },
 "nbformat": 4,
 "nbformat_minor": 4
}
